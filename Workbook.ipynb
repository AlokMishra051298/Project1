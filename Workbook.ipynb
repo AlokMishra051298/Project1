{
 "cells": [
  {
   "cell_type": "code",
   "execution_count": 1,
   "metadata": {},
   "outputs": [],
   "source": [
    "class Node:\n",
    "    def __init__(self, key, value):\n",
    "        self.key=key\n",
    "        self.value=value\n",
    "        self.next=None\n",
    "        self.prev=None"
   ]
  },
  {
   "cell_type": "code",
   "execution_count": 2,
   "metadata": {},
   "outputs": [],
   "source": [
    "class DoublyLinkedList:\n",
    "    def __init__(self):\n",
    "        self.head=None\n",
    "        self.tail=None\n",
    "        self.no_of_ele=0\n",
    "    \n",
    "    def insert(self, key, value):\n",
    "        if self.head is None:\n",
    "            node=Node(key, value)\n",
    "            self.head=node\n",
    "            self.tail=node\n",
    "            self.no_of_ele+=1\n",
    "            return self.head\n",
    "        node=Node(key, value)#create the node\n",
    "        node.next=self.head #node points the head\n",
    "        self.head.prev=node #now head.prev points to node \n",
    "        self.head=node #make to node head\n",
    "        self.no_of_ele+=1\n",
    "        return self.head\n",
    "    \n",
    "    #update the value of head node\n",
    "    def update(self, value):\n",
    "        self.head.value=value\n",
    "    \n",
    "    def get_tail_key(self):\n",
    "        return self.tail.key\n",
    "        \n",
    "    def delete_tail(self):\n",
    "        self.tail=self.tail.prev\n",
    "        self.tail.next=None\n",
    "        self.no_of_ele-=1\n",
    "        \n",
    "    def delete_middle(self, node):\n",
    "        ptr=self.head\n",
    "        while(ptr!=node):\n",
    "            ptr=ptr.next\n",
    "        left_ptr=ptr.prev\n",
    "        right_ptr=ptr.next\n",
    "        left_ptr.next=right_ptr\n",
    "        right_ptr.prev=left_ptr\n",
    "        self.no_of_ele-=1"
   ]
  },
  {
   "cell_type": "code",
   "execution_count": 14,
   "metadata": {
    "scrolled": false
   },
   "outputs": [
    {
     "name": "stdout",
     "output_type": "stream",
     "text": [
      "1\n",
      "2\n",
      "-1\n",
      "-1\n"
     ]
    }
   ],
   "source": [
    "class LRU_Cache:\n",
    "\n",
    "    def __init__(self, capacity):\n",
    "        # Initialize class variables\n",
    "        self.capacity=capacity #the capacity of the cache\n",
    "        self.cache=DoublyLinkedList()\n",
    "        self.lookup_dict=dict() #used dictionary because of faster lookups\n",
    "\n",
    "    def get(self, key):\n",
    "        # The cases where the searched key is not present in the cache, so it returns -1\n",
    "        if not self.lookup_dict.get(key) or self.lookup_dict[key]==-1:\n",
    "            return -1\n",
    "        #Get the value corresponding to key and put this node on the first position \n",
    "        value=self.lookup_dict[key].value\n",
    "        self.put(key,value)\n",
    "        return value\n",
    "        \n",
    "    def put(self, key, value):\n",
    "        # if the key appeared before and present in the cache\n",
    "        if self.lookup_dict.get(key) and self.lookup_dict[key]!=-1:\n",
    "            node=self.lookup_dict[key]\n",
    "            #if that node is at front the we only need to change its value and doesn't need any extra operation\n",
    "            if node==self.cache.head:\n",
    "                self.cache.update(self.cache.head, value)\n",
    "                return\n",
    "            #if that node is present at tail so, we only need to detach the last node and \n",
    "            #shift the tail left side and insert that node in the front by using insert() function\n",
    "            elif node==self.cache.tail:\n",
    "                self.cache.delete_tail()\n",
    "                self.lookup_dict[key]=self.cache.insert(key,value)\n",
    "                return\n",
    "            #else the node is somewhere in cache except the head and tail, so we just remove it from the cache\n",
    "            #and place it at head using insertFirst() function\n",
    "            self.cache.delete_middle(node)\n",
    "            self.lookup_dict[key]=self.cache.insert(key,value) #and insert node at first\n",
    "            return \n",
    "        #if key is newly introduced to cache\n",
    "        \n",
    "        #if the current length of cache is less the maximum capacity, then follow these steps\n",
    "        if self.cache.no_of_ele+1<=self.capacity:\n",
    "            node=self.cache.insert(key, value)\n",
    "            self.lookup_dict[key]=node #and initialize that key, value pair into lookup_dict\n",
    "            return\n",
    "        #If the cache is at capacity remove the oldest item.\n",
    "        index=self.cache.get_tail_key()#index is the key which is now going to detach from cache\n",
    "        self.lookup_dict[index]=-1 # set the value of removed index to -1 so, it is easy to keep track that no node is connected to it\n",
    "        self.cache.delete_tail() #detach the tail\n",
    "        #now simply add the key, value pair by calling insert()\n",
    "        self.lookup_dict[key]=self.cache.insert(key, value)\n",
    "        return\n",
    "\n",
    "our_cache = LRU_Cache(5)\n",
    "\n",
    "our_cache.put(1, 1);\n",
    "our_cache.put(2, 2);\n",
    "our_cache.put(3, 3);\n",
    "our_cache.put(4, 4);\n",
    "\n",
    "\n",
    "print(our_cache.get(1))       # returns 1\n",
    "print(our_cache.get(2))       # returns 2\n",
    "print(our_cache.get(9))      # returns -1 because 9 is not present in the cache\n",
    "\n",
    "our_cache.put(5, 5) \n",
    "our_cache.put(6, 6)\n",
    "\n",
    "print(our_cache.get(3))      # returns -1 because the cache reached it's capacity and 3 was the least recently used entry"
   ]
  },
  {
   "cell_type": "code",
   "execution_count": 4,
   "metadata": {
    "scrolled": true
   },
   "outputs": [
    {
     "ename": "AttributeError",
     "evalue": "'LRU_Cache' object has no attribute 'show_cache'",
     "output_type": "error",
     "traceback": [
      "\u001b[0;31m---------------------------------------------------------------------------\u001b[0m",
      "\u001b[0;31mAttributeError\u001b[0m                            Traceback (most recent call last)",
      "\u001b[0;32m<ipython-input-4-6a4f82e44dca>\u001b[0m in \u001b[0;36m<module>\u001b[0;34m()\u001b[0m\n\u001b[0;32m----> 1\u001b[0;31m \u001b[0mour_cache\u001b[0m\u001b[0;34m.\u001b[0m\u001b[0mshow_cache\u001b[0m\u001b[0;34m(\u001b[0m\u001b[0;34m)\u001b[0m\u001b[0;34m\u001b[0m\u001b[0m\n\u001b[0m",
      "\u001b[0;31mAttributeError\u001b[0m: 'LRU_Cache' object has no attribute 'show_cache'"
     ]
    }
   ],
   "source": [
    "our_cache.show_cache()"
   ]
  },
  {
   "cell_type": "code",
   "execution_count": 15,
   "metadata": {},
   "outputs": [
    {
     "name": "stdout",
     "output_type": "stream",
     "text": [
      "4\n",
      "None\n"
     ]
    }
   ],
   "source": [
    "print(our_cache.get(4))\n",
    "print(our_cache.put(8,8))"
   ]
  },
  {
   "cell_type": "code",
   "execution_count": 12,
   "metadata": {},
   "outputs": [
    {
     "data": {
      "text/plain": [
       "1"
      ]
     },
     "execution_count": 12,
     "metadata": {},
     "output_type": "execute_result"
    }
   ],
   "source": [
    "our_cache.get(1)"
   ]
  },
  {
   "cell_type": "code",
   "execution_count": 16,
   "metadata": {
    "scrolled": true
   },
   "outputs": [
    {
     "name": "stdout",
     "output_type": "stream",
     "text": [
      "8\n",
      "4\n",
      "6\n",
      "5\n",
      "2\n"
     ]
    }
   ],
   "source": [
    "head=our_cache.cache.head\n",
    "while head is not None:\n",
    "    print(head.value)\n",
    "    head=head.next"
   ]
  },
  {
   "cell_type": "code",
   "execution_count": 19,
   "metadata": {
    "scrolled": true
   },
   "outputs": [
    {
     "name": "stdout",
     "output_type": "stream",
     "text": [
      "-1\n",
      "1\n",
      "2\n",
      "3\n",
      "4\n",
      "5\n",
      "6\n"
     ]
    }
   ],
   "source": [
    "print(our_cache.get(9))\n",
    "for x in our_cache.lookup_dict:\n",
    "    print(x)"
   ]
  },
  {
   "cell_type": "code",
   "execution_count": 20,
   "metadata": {
    "scrolled": true
   },
   "outputs": [
    {
     "name": "stdout",
     "output_type": "stream",
     "text": [
      "None\n"
     ]
    }
   ],
   "source": [
    "x=dict()\n",
    "x[1]=3\n",
    "print(x.get(3))"
   ]
  },
  {
   "cell_type": "markdown",
   "metadata": {},
   "source": [
    "# File Recursion"
   ]
  },
  {
   "cell_type": "code",
   "execution_count": 6,
   "metadata": {},
   "outputs": [
    {
     "name": "stdout",
     "output_type": "stream",
     "text": [
      "False\n",
      "set()\n"
     ]
    }
   ],
   "source": [
    "import os\n",
    "# print(os.path.join(os.getcwd(),\"testdir\"))\n",
    "# print(os.listdir(os.path.join(os.getcwd(),\"testdir\")))\n",
    "path = os.path.join(os.getcwd(),\"testdir\")\n",
    "suffix = \".c\"\n",
    "def find_files(suffix, path):\n",
    "    file_list=set()\n",
    "    def find_in_subdir(suffix, path):\n",
    "        if path.endswith(suffix):\n",
    "            file_list.add(path)\n",
    "            return\n",
    "        if os.path.isdir(path):\n",
    "            for element in os.listdir(path):\n",
    "                net_path=os.path.join(path, element)\n",
    "                find_in_subdir(suffix, net_path)\n",
    "        return file_list\n",
    "    return find_in_subdir(suffix, path)\n",
    "print(os.path.isdir(path))\n",
    "print(find_files(suffix, path))"
   ]
  },
  {
   "cell_type": "markdown",
   "metadata": {},
   "source": [
    "# Block Chain"
   ]
  },
  {
   "cell_type": "code",
   "execution_count": 45,
   "metadata": {},
   "outputs": [],
   "source": [
    "import hashlib\n",
    "from datetime import datetime\n",
    "\n",
    "class Block:\n",
    "    def __init__(self, timestamp, data, previous_hash=0):\n",
    "        self.timestamp = timestamp\n",
    "        self.data = data \n",
    "        self.previous_hash=previous_hash\n",
    "        self.hash=self.calc_hash()\n",
    "        self.next=None\n",
    "        \n",
    "    def calc_hash(self):\n",
    "        sha = hashlib.sha256()\n",
    "        hash_str = str(self.data).encode('utf-8')\n",
    "        sha.update(hash_str)\n",
    "        return sha.hexdigest()\n",
    "    \n",
    "    def get_utc_time(self):\n",
    "        return self.timestamp\n",
    "    \n",
    "    def get_hash(self):\n",
    "        return self.hash\n",
    "    \n",
    "class BlockChain:\n",
    "    def __init__(self):\n",
    "        self.chain_dict=dict()\n",
    "        self.head = None\n",
    "        self.tail = None\n",
    "        self.size = 0\n",
    "    \n",
    "    def add_block(self, data):\n",
    "        if self.head is None:\n",
    "            block=Block(datetime.utcnow(), data)\n",
    "            self.head=block\n",
    "            self.tail=block\n",
    "            self.chain_dict[block.get_hash()]=block\n",
    "            self.size+= 1\n",
    "            return \n",
    "        prev_hash=self.chain_dict[self.tail.get_hash()]\n",
    "        block=Block(datetime.utcnow(), data, prev_hash)\n",
    "        self.tail.next=block\n",
    "        self.tail=self.tail.next\n",
    "        current_hash = block.get_hash()\n",
    "        self.chain_dict[current_hash]=block\n",
    "        self.size+= 1\n",
    "        return\n",
    "        \n",
    "    def print_blockchain(self):\n",
    "        head=self.head\n",
    "        while head is not None:\n",
    "            string='--------------\\n'\n",
    "            string+=\" Address of Node: {}\\n Hash: {}\\n Data: {}\\n Timestamp: {}\\n Previous Hash: {} \\n \".format(head, head.get_hash(), head.data, head.timestamp, head.previous_hash)\n",
    "            head=head.next\n",
    "            print(string)"
   ]
  },
  {
   "cell_type": "code",
   "execution_count": 46,
   "metadata": {},
   "outputs": [],
   "source": [
    "chain=BlockChain()\n",
    "chain.add_block(\"Hello, Alok\")\n",
    "chain.add_block(\"You done well\")\n",
    "chain.add_block(\"I know you will complete this course\")"
   ]
  },
  {
   "cell_type": "code",
   "execution_count": 47,
   "metadata": {
    "scrolled": true
   },
   "outputs": [
    {
     "name": "stdout",
     "output_type": "stream",
     "text": [
      "--------------\n",
      " Address of Node: <__main__.Block object at 0x7f00297abbe0>\n",
      " Hash: b076f141819dce2f69282fb4dc2a996b3d88706336960ac37649c33eb7730044\n",
      " Data: Hello, Alok\n",
      " Timestamp: 2020-04-16 04:32:53.752462\n",
      " Previous Hash: 0 \n",
      " \n",
      "--------------\n",
      " Address of Node: <__main__.Block object at 0x7f0029765ba8>\n",
      " Hash: 1241923741ab80767892697f572a8773f8d287425fa2c88b54fa2c4c75a08406\n",
      " Data: You done well\n",
      " Timestamp: 2020-04-16 04:32:53.752502\n",
      " Previous Hash: <__main__.Block object at 0x7f00297abbe0> \n",
      " \n",
      "--------------\n",
      " Address of Node: <__main__.Block object at 0x7f00297ab2e8>\n",
      " Hash: 88f9c75844db29e3889de62090f038b127c8374682f92a31502f73414e753bfe\n",
      " Data: I know you will complete this course\n",
      " Timestamp: 2020-04-16 04:32:53.752534\n",
      " Previous Hash: <__main__.Block object at 0x7f0029765ba8> \n",
      " \n"
     ]
    }
   ],
   "source": [
    "chain.print_blockchain()"
   ]
  },
  {
   "cell_type": "markdown",
   "metadata": {},
   "source": [
    "# Huffman Coding"
   ]
  },
  {
   "cell_type": "code",
   "execution_count": 2,
   "metadata": {},
   "outputs": [],
   "source": [
    "def cal_char_freq(string):\n",
    "    freq_dict=dict()\n",
    "    for key in string:\n",
    "        if freq_dict.get(key):\n",
    "            freq_dict[key]+=1\n",
    "        else:\n",
    "            freq_dict[key]=1\n",
    "    return freq_dict"
   ]
  },
  {
   "cell_type": "code",
   "execution_count": 21,
   "metadata": {},
   "outputs": [
    {
     "name": "stdout",
     "output_type": "stream",
     "text": [
      "{'a': 4, 'b': 3, 'c': 3, 'd': 3, 'e': 3, 'f': 1, 'z': 1}\n"
     ]
    }
   ],
   "source": [
    "string=\"aabcadefdeczedbbca\"\n",
    "char_freq=cal_char_freq(string)\n",
    "print(char_freq)"
   ]
  },
  {
   "cell_type": "code",
   "execution_count": 22,
   "metadata": {
    "scrolled": true
   },
   "outputs": [
    {
     "name": "stdout",
     "output_type": "stream",
     "text": [
      "[('f', 1), ('z', 1), ('b', 3), ('c', 3), ('d', 3), ('e', 3), ('a', 4)]\n"
     ]
    }
   ],
   "source": [
    "sorted_freq=[(k, v) for k, v in sorted(char_freq.items(), key=lambda item: item[1])]\n",
    "print(sorted_freq)"
   ]
  },
  {
   "cell_type": "code",
   "execution_count": 3,
   "metadata": {},
   "outputs": [],
   "source": [
    "class Node:\n",
    "    def __init__(self,frequency, char=None):\n",
    "        self.char=char\n",
    "        self.freq=frequency\n",
    "        self.prev=None\n",
    "        self.next=None\n",
    "        self.left=None\n",
    "        self.right=None"
   ]
  },
  {
   "cell_type": "code",
   "execution_count": 9,
   "metadata": {},
   "outputs": [],
   "source": [
    "# class internal_Node:\n",
    "#     def __init__(self, freq):\n",
    "#         self.freq=freq\n",
    "#         self.left=None\n",
    "#         self.right=None"
   ]
  },
  {
   "cell_type": "code",
   "execution_count": 4,
   "metadata": {},
   "outputs": [],
   "source": [
    "class PriorityQueue:\n",
    "    def __init__(self):\n",
    "        self.head=None\n",
    "        self.tail=None\n",
    "    def add_node(self, node):\n",
    "        if self.head is None:\n",
    "            self.head=node\n",
    "            self.tail=node\n",
    "            return\n",
    "        head=self.head\n",
    "        while(head is not None and head.freq<=node.freq):\n",
    "            head=head.next\n",
    "        if head==self.head:\n",
    "            node.next=self.head\n",
    "            self.head.prev=node\n",
    "            self.head=self.head.prev\n",
    "            return\n",
    "        #if we traverse through queue and need to insert node at tail\n",
    "        if head==self.tail or head==None:\n",
    "            self.tail.next=node\n",
    "            node.prev=self.tail\n",
    "            self.tail=self.tail.next\n",
    "            return\n",
    "        #node inserted in between the queue\n",
    "        left=head.prev\n",
    "        left.next=node\n",
    "        head.prev=node\n",
    "        node.prev=left\n",
    "        node.next=head\n",
    "        return\n",
    "    \n",
    "    def del_node(self):\n",
    "        node=self.head\n",
    "        self.head=self.head.next\n",
    "#         self.head.prev=None\n",
    "        node.next=None\n",
    "        node.prev=None\n",
    "        return node\n",
    "    def print_que(self):\n",
    "        head=self.head\n",
    "        while head is not None:\n",
    "            print(head.char, head.freq)\n",
    "            head=head.next\n",
    "    def is_empty(self):\n",
    "        return self.head is None"
   ]
  },
  {
   "cell_type": "code",
   "execution_count": 25,
   "metadata": {},
   "outputs": [],
   "source": [
    "queue=PriorityQueue()\n",
    "for item in sorted_freq:\n",
    "    char=item[0]\n",
    "    freq=item[1]\n",
    "    node=Node(freq, char)\n",
    "    queue.add_node(node)"
   ]
  },
  {
   "cell_type": "code",
   "execution_count": 15,
   "metadata": {
    "scrolled": false
   },
   "outputs": [
    {
     "name": "stdout",
     "output_type": "stream",
     "text": [
      "f 1\n",
      "z 1\n",
      "b 3\n",
      "c 3\n",
      "d 3\n",
      "e 3\n",
      "a 4\n"
     ]
    }
   ],
   "source": [
    "queue.print_que()"
   ]
  },
  {
   "cell_type": "code",
   "execution_count": 8,
   "metadata": {},
   "outputs": [
    {
     "data": {
      "text/plain": [
       "False"
      ]
     },
     "execution_count": 8,
     "metadata": {},
     "output_type": "execute_result"
    }
   ],
   "source": [
    "queue.is_empty()"
   ]
  },
  {
   "cell_type": "code",
   "execution_count": 115,
   "metadata": {
    "scrolled": true
   },
   "outputs": [],
   "source": [
    "node1=queue.del_node()\n",
    "node2=queue.del_node()"
   ]
  },
  {
   "cell_type": "code",
   "execution_count": 116,
   "metadata": {},
   "outputs": [],
   "source": [
    "sum_of_freq=node1.freq + node2.freq\n",
    "chars=node1.char+node2.char\n",
    "new_node=Node(chars, sum_of_freq)"
   ]
  },
  {
   "cell_type": "code",
   "execution_count": 117,
   "metadata": {},
   "outputs": [],
   "source": [
    "#build tree by using these node\n",
    "new_node.left=node1\n",
    "new_node.right=node2\n",
    "queue.add_node(new_node)"
   ]
  },
  {
   "cell_type": "code",
   "execution_count": 13,
   "metadata": {
    "scrolled": true
   },
   "outputs": [
    {
     "name": "stdout",
     "output_type": "stream",
     "text": [
      "None 18\n"
     ]
    }
   ],
   "source": [
    "tree.print_que()"
   ]
  },
  {
   "cell_type": "code",
   "execution_count": 5,
   "metadata": {},
   "outputs": [],
   "source": [
    "def build_huffman(queue):\n",
    "    while(not queue.is_empty() and queue.head.next):\n",
    "        node1=queue.del_node()\n",
    "        node2=queue.del_node()\n",
    "        sum_of_freq=node1.freq + node2.freq\n",
    "        new_node=Node(sum_of_freq)\n",
    "        new_node.left=node1\n",
    "        new_node.right=node2\n",
    "        queue.add_node(new_node)\n",
    "    return queue"
   ]
  },
  {
   "cell_type": "code",
   "execution_count": 27,
   "metadata": {},
   "outputs": [],
   "source": [
    "tree=build_huffman(queue)"
   ]
  },
  {
   "cell_type": "code",
   "execution_count": 6,
   "metadata": {},
   "outputs": [],
   "source": [
    "def find_codes(tree):\n",
    "    head=tree.head\n",
    "    global code_list\n",
    "    code_list=dict()\n",
    "    codes(head, str())\n",
    "    return code_list\n",
    "\n",
    "def codes(head, string):\n",
    "    arr=string\n",
    "    if head.left:\n",
    "        string+='0'\n",
    "        codes(head.left, string)\n",
    "    if head.right:\n",
    "        string=arr\n",
    "        string+='1'\n",
    "        codes(head.right, string)\n",
    "    if head.left is None and head.right is None:\n",
    "        temp=string\n",
    "        code_list[head.char]=temp\n",
    "    return"
   ]
  },
  {
   "cell_type": "code",
   "execution_count": 29,
   "metadata": {
    "scrolled": true
   },
   "outputs": [
    {
     "data": {
      "text/plain": [
       "{'e': '00',\n",
       " 'a': '01',\n",
       " 'f': '1000',\n",
       " 'z': '1001',\n",
       " 'b': '101',\n",
       " 'c': '110',\n",
       " 'd': '111'}"
      ]
     },
     "execution_count": 29,
     "metadata": {},
     "output_type": "execute_result"
    }
   ],
   "source": [
    "find_codes(tree)"
   ]
  },
  {
   "cell_type": "code",
   "execution_count": 7,
   "metadata": {},
   "outputs": [],
   "source": [
    "import sys\n",
    "\n",
    "def huffman_encoding(data):\n",
    "    char_freq=cal_char_freq(data)\n",
    "    sorted_freq=[(k, v) for k, v in sorted(char_freq.items(), key=lambda item: item[1])]\n",
    "    queue=PriorityQueue()\n",
    "    for item in sorted_freq:\n",
    "        char=item[0]\n",
    "        freq=item[1]\n",
    "        node=Node(freq, char)\n",
    "        queue.add_node(node)\n",
    "    tree=build_huffman(queue)\n",
    "    get_code=find_codes(tree)\n",
    "    encoded_data=str()\n",
    "    for x in data:\n",
    "        encoded_data+=get_code[x]\n",
    "    return encoded_data, tree"
   ]
  },
  {
   "cell_type": "code",
   "execution_count": 8,
   "metadata": {},
   "outputs": [],
   "source": [
    "import sys\n",
    "\n",
    "def huffman_encoding(data):\n",
    "    char_freq=cal_char_freq(data)\n",
    "    sorted_freq=[(k, v) for k, v in sorted(char_freq.items(), key=lambda item: item[1])]\n",
    "    queue=PriorityQueue()\n",
    "    for item in sorted_freq:\n",
    "        char=item[0]\n",
    "        freq=item[1]\n",
    "        node=Node(freq, char)\n",
    "        queue.add_node(node)\n",
    "    tree=build_huffman(queue)\n",
    "    get_code=find_codes(tree)\n",
    "    encoded_data=str()\n",
    "    for x in data:\n",
    "        encoded_data+=get_code[x]\n",
    "    return encoded_data, tree"
   ]
  }
 ],
 "metadata": {
  "kernelspec": {
   "display_name": "Python 3",
   "language": "python",
   "name": "python3"
  },
  "language_info": {
   "codemirror_mode": {
    "name": "ipython",
    "version": 3
   },
   "file_extension": ".py",
   "mimetype": "text/x-python",
   "name": "python",
   "nbconvert_exporter": "python",
   "pygments_lexer": "ipython3",
   "version": "3.7.1"
  }
 },
 "nbformat": 4,
 "nbformat_minor": 2
}
